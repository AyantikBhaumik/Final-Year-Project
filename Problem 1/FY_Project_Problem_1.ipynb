{
  "nbformat": 4,
  "nbformat_minor": 0,
  "metadata": {
    "colab": {
      "provenance": []
    },
    "kernelspec": {
      "name": "python3",
      "display_name": "Python 3"
    },
    "language_info": {
      "name": "python"
    }
  },
  "cells": [
    {
      "cell_type": "markdown",
      "source": [
        "**Problem Statement** : *Distribute a set of robots positioned along a straight line into two equal halves. The positions of the two extreme robots on the line (leftmost and rightmost) are given, as well as the initial positions of the other robots in between. The objective is to divide the robots into two halves, such that one half is on one side of the line and the other half is on the opposite side.*"
      ],
      "metadata": {
        "id": "NUVhhB88tj_-"
      }
    },
    {
      "cell_type": "code",
      "source": [
        "import sys\n",
        "import matplotlib.pyplot as plt"
      ],
      "metadata": {
        "id": "RQ4YwTB7FMFH"
      },
      "execution_count": null,
      "outputs": []
    },
    {
      "cell_type": "code",
      "source": [
        "class Robot:\n",
        "    def __init__(self, id, position):\n",
        "        \"\"\"\n",
        "        Initialize a Robot object.\n",
        "\n",
        "        Parameters:\n",
        "        id (int): Unique identifier for the robot.\n",
        "        position (float or int): The position of the robot along the line (could be 1D, typically on a number line).\n",
        "        \"\"\"\n",
        "        self.id = id  # Assign the robot's ID.\n",
        "        self.position = position  # Assign the robot's position on the line.\n",
        "\n",
        "    def __repr__(self):\n",
        "        \"\"\"\n",
        "        Return a string representation of the Robot object.\n",
        "\n",
        "        Returns:\n",
        "        str: A string showing the robot's ID and its position.\n",
        "        \"\"\"\n",
        "        return f\"Robot {self.id}: Position {self.position}\""
      ],
      "metadata": {
        "id": "UbjAjwBdvxo4"
      },
      "execution_count": null,
      "outputs": []
    },
    {
      "cell_type": "code",
      "source": [
        "# Input the total number of robots\n",
        "num = int(input(\"Enter number of robots: \"))\n",
        "robots = []  # Initialize an empty list to store Robot objects\n",
        "\n",
        "# Input the position of the leftmost robot and create its Robot object\n",
        "posL = float(input(f\"Enter position of leftmost robot: \"))\n",
        "robots.append(Robot(1, posL))  # Append the leftmost robot (ID=1) to the robots list\n",
        "\n",
        "# Input the position of the rightmost robot and create its Robot object\n",
        "posR = float(input(f\"Enter position of rightmost robot: \"))\n",
        "robots.append(Robot(num, posR))  # Append the rightmost robot (ID=num) to the robots list\n",
        "\n",
        "# Check if the number of robots is larger than the available space on the line\n",
        "# If the total number of positions (posR - posL + 1) is less than the number of robots, exit the program\n",
        "if posR - posL + 1 < num:\n",
        "    print(\"Number of Robots cannot be larger than the line\")\n",
        "    sys.exit()\n",
        "\n",
        "# Check if the positions of the leftmost and rightmost robots are valid\n",
        "# The leftmost robot's position should be less than the rightmost one\n",
        "if posL >= posR:\n",
        "    print(\"Invalid positions\")\n",
        "    sys.exit()\n",
        "\n",
        "# Input the positions of the remaining robots (from 2 to num-1) and create Robot objects\n",
        "for i in range(2, num):\n",
        "    pos = float(input(f\"Enter position of robot {i}: \"))\n",
        "\n",
        "    # Validate the position of the robot: It must be between posL and posR\n",
        "    if pos < posL or pos > posR:\n",
        "        print(\"Invalid position\")\n",
        "        sys.exit()\n",
        "\n",
        "    # Append the valid robot (with its ID and position) to the robots list\n",
        "    robots.append(Robot(i, pos))\n",
        "\n",
        "# Sort the robots based on their positions (using lambda to extract the position attribute)\n",
        "robots_sorted = sorted(robots, key=lambda robot: robot.position)\n",
        "\n",
        "# Output the sorted list of robots (by their position)\n",
        "for robot in robots_sorted:\n",
        "    print(robot)"
      ],
      "metadata": {
        "colab": {
          "base_uri": "https://localhost:8080/"
        },
        "id": "fpkxGHGAy8uX",
        "outputId": "6c31ceb8-c33c-4ad0-e4d5-571ecc385d1f"
      },
      "execution_count": null,
      "outputs": [
        {
          "output_type": "stream",
          "name": "stdout",
          "text": [
            "Enter number of robots: 7\n",
            "Enter position of leftmost robot: 1\n",
            "Enter position of rightmost robot: 7\n",
            "Enter position of robot 2: 2\n",
            "Enter position of robot 3: 2.5\n",
            "Enter position of robot 4: 3\n",
            "Enter position of robot 5: 3.5\n",
            "Enter position of robot 6: 4.5\n",
            "Robot 1: Position 1.0\n",
            "Robot 2: Position 2.0\n",
            "Robot 3: Position 2.5\n",
            "Robot 4: Position 3.0\n",
            "Robot 5: Position 3.5\n",
            "Robot 6: Position 4.5\n",
            "Robot 7: Position 7.0\n"
          ]
        }
      ]
    },
    {
      "cell_type": "code",
      "source": [
        "# Function to plot robots' positions in each iteration\n",
        "def plot_robots(robots_sorted, iteration):\n",
        "    positions = [robot.position for robot in robots_sorted]\n",
        "    ids = [robot.id for robot in robots_sorted]\n",
        "\n",
        "    plt.figure(figsize=(8, 4))\n",
        "    plt.scatter(positions, [1]*len(robots_sorted), color='blue', zorder=5)\n",
        "\n",
        "    for i, txt in enumerate(ids):\n",
        "        plt.annotate(txt, (positions[i], 1.01), fontsize=10, ha='center')\n",
        "\n",
        "    plt.xlim(posL-1, posR+1)  # Extend the x-axis limits a bit to show all robots clearly\n",
        "    plt.ylim(0.95, 1.05)  # Keep a small y-range since we're focusing on x positions\n",
        "    plt.title(f'Robot Positions - Iteration {iteration}')\n",
        "    plt.xlabel('Position')\n",
        "    plt.yticks([])  # Hide the y-axis ticks as we don't need them\n",
        "    plt.grid(True)\n",
        "    plt.show()"
      ],
      "metadata": {
        "id": "ZA7I21y1FIZu"
      },
      "execution_count": null,
      "outputs": []
    },
    {
      "cell_type": "code",
      "source": [
        "def avoid_collision(position, factor):\n",
        "    \"\"\"\n",
        "    Recursively move robots to avoid collisions.\n",
        "\n",
        "    Parameters:\n",
        "    position (float): The position where a robot is attempting to move.\n",
        "    factor (float): The step size and direction to move the robot.\n",
        "                    Positive factor moves the robot to the right, negative factor moves it to the left.\n",
        "\n",
        "    This function checks if the current 'position' is already occupied by another robot.\n",
        "    If it is, the robot is moved further in the same direction (by 'factor'), and this process continues recursively\n",
        "    until an unoccupied position is found.\n",
        "    \"\"\"\n",
        "    # Iterate over all robots to check if any robot is at the given position\n",
        "    for robot in robots_sorted:\n",
        "        if robot.position == position:\n",
        "            # If a robot is found at the current position, calculate the next position\n",
        "            new_position = position + factor\n",
        "\n",
        "            # Recursively call avoid_collision to check and move the next robot if needed\n",
        "            avoid_collision(new_position, factor)\n",
        "\n",
        "            # Once an unoccupied position is found, move the robot to the new position\n",
        "            robot.position = new_position\n"
      ],
      "metadata": {
        "id": "Lzv0WowqBbL_"
      },
      "execution_count": null,
      "outputs": []
    },
    {
      "cell_type": "code",
      "source": [
        "# Calculate the initial median position based on the number of robots\n",
        "if num % 2 == 0:\n",
        "    # If the number of robots is even, the median is the average of the two middle robots\n",
        "    median = (robots_sorted[num // 2].position + robots_sorted[num // 2 - 1].position) / 2\n",
        "else:\n",
        "    # If the number of robots is odd, the median is the position of the middle robot\n",
        "    median = robots_sorted[num // 2].position\n",
        "\n",
        "# Calculate the midpoint based on the positions of the leftmost and rightmost robots\n",
        "mid = (robots_sorted[0].position + robots_sorted[num - 1].position) / 2\n",
        "\n",
        "iteration = 0\n",
        "plot_robots(robots_sorted, iteration)  # Plot initial positions\n",
        "\n",
        "# Main loop to adjust the median toward the midpoint\n",
        "while median != mid:\n",
        "    iteration+=1  # Increment the iteration counter\n",
        "    movement_flag = 0  # Flag to track if any robot has moved in this iteration\n",
        "\n",
        "    if median < mid:\n",
        "        # If the median is less than the midpoint, move the robots toward the right\n",
        "        idx = num // 2  # Start from the middle robot\n",
        "        while idx < len(robots_sorted) and robots_sorted[idx].position <= mid:\n",
        "            # Calculate the new position by moving the robot 0.5 units to the right\n",
        "            new_position = robots_sorted[idx].position + 0.5\n",
        "\n",
        "            # Ensure there are no collisions at the new position\n",
        "            avoid_collision(new_position, 0.5)\n",
        "\n",
        "            # Move the current robot to the new position\n",
        "            robots_sorted[idx].position = new_position\n",
        "\n",
        "            # Set the movement flag to 1 as a robot has moved\n",
        "            movement_flag = 1\n",
        "            idx += 1  # Move to the next robot\n",
        "\n",
        "    else:\n",
        "        # If the median is greater than the midpoint, move the robots toward the left\n",
        "        idx = num // 2  # Start from the middle robot\n",
        "        while robots_sorted[idx].position >= mid:\n",
        "            # Calculate the new position by moving the robot 0.5 units to the left\n",
        "            new_position = robots_sorted[idx].position - 0.5\n",
        "\n",
        "            # Ensure there are no collisions at the new position\n",
        "            avoid_collision(new_position, -0.5)\n",
        "\n",
        "            # Move the current robot to the new position\n",
        "            robots_sorted[idx].position = new_position\n",
        "\n",
        "            # Set the movement flag to 1 as a robot has moved\n",
        "            movement_flag = 1\n",
        "            idx -= 1  # Move to the previous robot\n",
        "\n",
        "    # Plot positions in each iteration\n",
        "    plot_robots(robots_sorted, iteration)\n",
        "\n",
        "    # Break the loop if no robot has moved in the current iteration\n",
        "    if movement_flag == 0:\n",
        "        break\n",
        "\n",
        "    # Recalculate the median after the robots have moved\n",
        "    if num % 2 == 0:\n",
        "        # If the number of robots is even, the median is the average of the two middle robots\n",
        "        median = (robots_sorted[num // 2].position + robots_sorted[num // 2 - 1].position) / 2\n",
        "    else:\n",
        "        # If the number of robots is odd, the median is the position of the middle robot\n",
        "        median = robots_sorted[num // 2].position\n"
      ],
      "metadata": {
        "colab": {
          "base_uri": "https://localhost:8080/",
          "height": 1000
        },
        "id": "7zrSA61w3l23",
        "outputId": "47a507e9-1530-4989-d0f1-9bc0f2af9f33"
      },
      "execution_count": null,
      "outputs": [
        {
          "output_type": "display_data",
          "data": {
            "text/plain": [
              "<Figure size 800x400 with 1 Axes>"
            ],
            "image/png": "[encoded data removed]"
          },
          "metadata": {}
        },
        {
          "output_type": "display_data",
          "data": {
            "text/plain": [
              "<Figure size 800x400 with 1 Axes>"
            ],
            "image/png": "[encoded data removed]"
          },
          "metadata": {}
        },
        {
          "output_type": "display_data",
          "data": {
            "text/plain": [
              "<Figure size 800x400 with 1 Axes>"
            ],
            "image/png": "[encoded data removed]"
          },
          "metadata": {}
        }
      ]
    }
  ]
}